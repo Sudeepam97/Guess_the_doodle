{
  "nbformat": 4,
  "nbformat_minor": 0,
  "metadata": {
    "colab": {
      "name": "doodle_classifier.ipynb",
      "version": "0.3.2",
      "provenance": [],
      "collapsed_sections": [],
      "toc_visible": true
    },
    "kernelspec": {
      "name": "python3",
      "display_name": "Python 3"
    },
    "accelerator": "GPU"
  },
  "cells": [
    {
      "metadata": {
        "id": "Az4owlVlWyUa",
        "colab_type": "code",
        "colab": {}
      },
      "cell_type": "code",
      "source": [
        "## Load the Drive helper and mount\n",
        "from google.colab import drive\n",
        "\n",
        "## This will prompt for authorization.\n",
        "drive.mount('/content/drive')"
      ],
      "execution_count": 0,
      "outputs": []
    },
    {
      "metadata": {
        "id": "Nmzw1fIfW1vi",
        "colab_type": "code",
        "colab": {}
      },
      "cell_type": "code",
      "source": [
        "## Set the preferred path\n",
        "%cd drive/My' 'Drive/Google' 'Colab"
      ],
      "execution_count": 0,
      "outputs": []
    },
    {
      "metadata": {
        "id": "CGNQK1OcXfrK",
        "colab_type": "code",
        "colab": {}
      },
      "cell_type": "code",
      "source": [
        "## Read and display the output classes\n",
        "f = open (\"classes\", \"r\")\n",
        "out_classes = f.readlines()\n",
        "f.close()\n",
        "for i in range(0, len(out_classes)):\n",
        "  out_classes[i] = out_classes[i].replace('\\n', '').replace(' ', '_')\n",
        "print(out_classes)"
      ],
      "execution_count": 0,
      "outputs": []
    },
    {
      "metadata": {
        "id": "L3SU1q86aA1W",
        "colab_type": "code",
        "colab": {}
      },
      "cell_type": "code",
      "source": [
        "## Define a function to download the dataset\n",
        "def obtain_dataset():\n",
        "  \n",
        "  import urllib.request\n",
        "  base_url = \"https://storage.googleapis.com/quickdraw_dataset/full/numpy_bitmap/\"\n",
        "  extensions = [''] * len(out_classes)\n",
        "  \n",
        "  for i in range(0, len(out_classes)):\n",
        "    ## Create URL\n",
        "    extensions[i] = out_classes[i].replace('_', '%20')\n",
        "    url = base_url + extensions[i] + \".npy\"\n",
        "    ## Fetch...\n",
        "    print (\"downloading \" + url + \" ...\" )\n",
        "    urllib.request.urlretrieve(url, \"dataset/\" + out_classes[i] + \".npy\")"
      ],
      "execution_count": 0,
      "outputs": []
    },
    {
      "metadata": {
        "id": "K69OWpEHnk71",
        "colab_type": "code",
        "colab": {}
      },
      "cell_type": "code",
      "source": [
        "## Fetch the dataset\n",
        "%mkdir dataset\n",
        "obtain_dataset()"
      ],
      "execution_count": 0,
      "outputs": []
    },
    {
      "metadata": {
        "id": "5yIsooRa09cW",
        "colab_type": "code",
        "colab": {}
      },
      "cell_type": "code",
      "source": [
        "import numpy as np\n",
        "import tensorflow as tf\n",
        "import matplotlib.pyplot as plt\n",
        "from tensorflow import keras\n",
        "from tensorflow.keras import layers"
      ],
      "execution_count": 0,
      "outputs": []
    },
    {
      "metadata": {
        "id": "LsOhxu9W6sNn",
        "colab_type": "code",
        "colab": {}
      },
      "cell_type": "code",
      "source": [
        "%cd dataset\n",
        "print (\"\\n\")\n",
        "%ls"
      ],
      "execution_count": 0,
      "outputs": []
    },
    {
      "metadata": {
        "id": "Of6bSfv67fRI",
        "colab_type": "code",
        "colab": {}
      },
      "cell_type": "code",
      "source": [
        "def load_dataset():\n",
        "  ## Initialize variables\n",
        "  X = np.empty([0, 784])\n",
        "  Y = np.empty([0, 1])\n",
        "  images_per_class = 18000\n",
        "  test_set_size = 10000\n",
        "  \n",
        "  ## Load the dataset\n",
        "  for i in range(0, len(out_classes)):\n",
        "    file = np.load((out_classes[i] + \".npy\"))    # Load images of a given doodle\n",
        "    file = file[0 : images_per_class, :]         # Select the first 18000 images\n",
        "    labels = np.full((images_per_class, 1), i)   # Create labels for the given doodle\n",
        "    \n",
        "    X = np.concatenate((X, file), axis = 0)   # Concatenate examples for each doodle\n",
        "    Y = np.concatenate((Y, labels), axis = 0) # Concatenate the labels\n",
        "  \n",
        "  ## Randomise the dataset\n",
        "  np.random.seed(1)\n",
        "  order = np.random.permutation(Y.shape[0])\n",
        "  X = X[order, :]\n",
        "  Y = Y[order, :]\n",
        "  \n",
        "  ## Split the data\n",
        "  X_test = X[0 : test_set_size, :]\n",
        "  Y_test = Y[0 : test_set_size, :]\n",
        "  X_train = X[test_set_size : X.shape[0], :]\n",
        "  Y_train = Y[test_set_size : Y.shape[0], :]\n",
        "  \n",
        "  return X_train, Y_train, X_test, Y_test"
      ],
      "execution_count": 0,
      "outputs": []
    },
    {
      "metadata": {
        "id": "mDIuF8BzPPXq",
        "colab_type": "code",
        "colab": {}
      },
      "cell_type": "code",
      "source": [
        "## Load the dataset\n",
        "X_train, Y_train, X_test, Y_test = load_dataset()"
      ],
      "execution_count": 0,
      "outputs": []
    },
    {
      "metadata": {
        "id": "y6pwSLP_Z717",
        "colab_type": "code",
        "colab": {}
      },
      "cell_type": "code",
      "source": [
        "## Perform sanity check\n",
        "print(\"X_train shape:\", X_train.shape)\n",
        "print(\"Y_train shape:\", Y_train.shape)\n",
        "print(\"X_test shape: \", X_test.shape)\n",
        "print(\"Y_test shape: \", Y_test.shape)"
      ],
      "execution_count": 0,
      "outputs": []
    },
    {
      "metadata": {
        "id": "LL2OnWgobrS-",
        "colab_type": "code",
        "outputId": "3992148d-3ada-4fa2-ffca-114594ec1803",
        "colab": {
          "base_uri": "https://localhost:8080/",
          "height": 364
        }
      },
      "cell_type": "code",
      "source": [
        "## Print an image\n",
        "ind = 750\n",
        "plt.imshow(X_train[ind].reshape(28, 28))\n",
        "print(out_classes[int(Y_train[ind])])"
      ],
      "execution_count": 0,
      "outputs": [
        {
          "output_type": "stream",
          "text": [
            "donut\n"
          ],
          "name": "stdout"
        },
        {
          "output_type": "display_data",
          "data": {
            "image/png": "[encoded data removed]",
            "text/plain": [
              "<matplotlib.figure.Figure at 0x7febed9bcb00>"
            ]
          },
          "metadata": {
            "tags": []
          }
        }
      ]
    },
    {
      "metadata": {
        "id": "JkYEKJuQcajH",
        "colab_type": "code",
        "colab": {}
      },
      "cell_type": "code",
      "source": [
        "## Reshape image vectors\n",
        "image_size = 28\n",
        "X_train = X_train.reshape(X_train.shape[0], image_size, image_size, 1).astype(\"float32\")\n",
        "X_test = X_test.reshape(X_test.shape[0], image_size, image_size, 1).astype(\"float32\")\n",
        "\n",
        "## Reshape output labels\n",
        "Y_train = keras.utils.to_categorical(Y_train, len(out_classes))\n",
        "Y_test = keras.utils.to_categorical(Y_test, len(out_classes))\n",
        "\n",
        "## Normalize the dataset\n",
        "X_train = X_train / 255\n",
        "X_test = X_test / 255"
      ],
      "execution_count": 0,
      "outputs": []
    },
    {
      "metadata": {
        "id": "lue1NIFVgjAZ",
        "colab_type": "code",
        "colab": {}
      },
      "cell_type": "code",
      "source": [
        "print(\"X_train shape:\", X_train.shape)\n",
        "print(\"Y_train shape:\", Y_train.shape)\n",
        "print(\"X_test shape: \", X_test.shape)\n",
        "print(\"Y_test shape: \", Y_test.shape)"
      ],
      "execution_count": 0,
      "outputs": []
    },
    {
      "metadata": {
        "id": "zgJDnDOZfG25",
        "colab_type": "code",
        "colab": {}
      },
      "cell_type": "code",
      "source": [
        "def create_model(input_shape):\n",
        "  model = keras.Sequential()\n",
        "  \n",
        "  model.add(layers.Conv2D(16, (3, 3), padding = 'same', input_shape = input_shape, activation = 'relu'))\n",
        "  model.add(layers.BatchNormalization(axis = 3)) # Normalizing the channel axis\n",
        "  model.add(layers.MaxPooling2D(pool_size = (2, 2)))\n",
        "  \n",
        "  model.add(layers.Conv2D(32, (3, 3), padding = 'same', activation = 'relu'))\n",
        "  model.add(layers.BatchNormalization(axis = 3))\n",
        "  model.add(layers.MaxPooling2D(pool_size = (2, 2)))\n",
        "  \n",
        "  model.add(layers.Conv2D(64, (3, 3), padding = 'same', activation = 'relu'))\n",
        "  model.add(layers.BatchNormalization(axis = 3))\n",
        "  model.add(layers.MaxPooling2D(pool_size = (2,2)))\n",
        "  \n",
        "  model.add(layers.Flatten())\n",
        "  model.add(layers.Dense(128, activation = 'relu'))\n",
        "  model.add(layers.Dense(28, activation = 'softmax')) \n",
        "  \n",
        "  return model"
      ],
      "execution_count": 0,
      "outputs": []
    },
    {
      "metadata": {
        "id": "W3ez9Op2vTR8",
        "colab_type": "code",
        "outputId": "9a6a58db-f770-46c8-c76b-ab83c69f35c6",
        "colab": {
          "base_uri": "https://localhost:8080/",
          "height": 573
        }
      },
      "cell_type": "code",
      "source": [
        "## Create the model\n",
        "doodle_model = create_model((image_size, image_size, 1))\n",
        "print (doodle_model.summary())"
      ],
      "execution_count": 0,
      "outputs": [
        {
          "output_type": "stream",
          "text": [
            "_________________________________________________________________\n",
            "Layer (type)                 Output Shape              Param #   \n",
            "=================================================================\n",
            "conv2d_3 (Conv2D)            (None, 28, 28, 16)        160       \n",
            "_________________________________________________________________\n",
            "batch_normalization_3 (Batch (None, 28, 28, 16)        64        \n",
            "_________________________________________________________________\n",
            "max_pooling2d_3 (MaxPooling2 (None, 14, 14, 16)        0         \n",
            "_________________________________________________________________\n",
            "conv2d_4 (Conv2D)            (None, 14, 14, 32)        4640      \n",
            "_________________________________________________________________\n",
            "batch_normalization_4 (Batch (None, 14, 14, 32)        128       \n",
            "_________________________________________________________________\n",
            "max_pooling2d_4 (MaxPooling2 (None, 7, 7, 32)          0         \n",
            "_________________________________________________________________\n",
            "conv2d_5 (Conv2D)            (None, 7, 7, 64)          18496     \n",
            "_________________________________________________________________\n",
            "batch_normalization_5 (Batch (None, 7, 7, 64)          256       \n",
            "_________________________________________________________________\n",
            "max_pooling2d_5 (MaxPooling2 (None, 3, 3, 64)          0         \n",
            "_________________________________________________________________\n",
            "flatten_1 (Flatten)          (None, 576)               0         \n",
            "_________________________________________________________________\n",
            "dense_2 (Dense)              (None, 128)               73856     \n",
            "_________________________________________________________________\n",
            "dense_3 (Dense)              (None, 28)                3612      \n",
            "=================================================================\n",
            "Total params: 101,212\n",
            "Trainable params: 100,988\n",
            "Non-trainable params: 224\n",
            "_________________________________________________________________\n",
            "None\n"
          ],
          "name": "stdout"
        }
      ]
    },
    {
      "metadata": {
        "id": "WScqbTOsvuFw",
        "colab_type": "code",
        "colab": {}
      },
      "cell_type": "code",
      "source": [
        "## Compile the model\n",
        "doodle_model.compile (optimizer = \"Adam\", loss = \"categorical_crossentropy\", metrics = [\"accuracy\"])"
      ],
      "execution_count": 0,
      "outputs": []
    },
    {
      "metadata": {
        "id": "MSi46ssAwKSe",
        "colab_type": "code",
        "colab": {}
      },
      "cell_type": "code",
      "source": [
        "## Fit the model\n",
        "doodle_model.fit (x = X_train, y = Y_train, epochs = 4, batch_size = 256)"
      ],
      "execution_count": 0,
      "outputs": []
    },
    {
      "metadata": {
        "id": "EnbvAm9Vwlej",
        "colab_type": "code",
        "outputId": "b903ef33-9466-4bc4-c74f-9c3e3a594ca1",
        "colab": {
          "base_uri": "https://localhost:8080/",
          "height": 86
        }
      },
      "cell_type": "code",
      "source": [
        "preds = doodle_model.evaluate(x = X_test, y = Y_test)\n",
        "print()\n",
        "print (\"Loss = \" + str(preds[0]))\n",
        "print (\"Test Accuracy = \" + str(preds[1]))"
      ],
      "execution_count": 0,
      "outputs": [
        {
          "output_type": "stream",
          "text": [
            "10000/10000 [==============================] - 1s 99us/step\n",
            "\n",
            "Loss = 0.30474953777194025\n",
            "Test Accuracy = 0.9218\n"
          ],
          "name": "stdout"
        }
      ]
    },
    {
      "metadata": {
        "id": "qaRiFfL_2R3-",
        "colab_type": "code",
        "outputId": "6b398fa6-e236-403c-f8bb-50904f782761",
        "colab": {
          "base_uri": "https://localhost:8080/",
          "height": 364
        }
      },
      "cell_type": "code",
      "source": [
        "idx = 47\n",
        "img = X_test[idx]\n",
        "plt.imshow(img.squeeze()) \n",
        "pred = model.predict(np.expand_dims(img, axis=0))[0]\n",
        "ind = np.argmax(pred)\n",
        "prediction = out_classes[ind]\n",
        "print(prediction)"
      ],
      "execution_count": 0,
      "outputs": [
        {
          "output_type": "stream",
          "text": [
            "['ladder']\n"
          ],
          "name": "stdout"
        },
        {
          "output_type": "display_data",
          "data": {
            "image/png": "[encoded data removed]",
            "text/plain": [
              "<matplotlib.figure.Figure at 0x7f5e8e5b0358>"
            ]
          },
          "metadata": {
            "tags": []
          }
        }
      ]
    },
    {
      "metadata": {
        "id": "wz_deWq2D--B",
        "colab_type": "code",
        "outputId": "15647ffc-9996-43a3-85f0-37efd5924c7a",
        "colab": {
          "base_uri": "https://localhost:8080/",
          "height": 34
        }
      },
      "cell_type": "code",
      "source": [
        "%cd .."
      ],
      "execution_count": 0,
      "outputs": [
        {
          "output_type": "stream",
          "text": [
            "/content/drive/My Drive/Google Colab\n"
          ],
          "name": "stdout"
        }
      ]
    },
    {
      "metadata": {
        "id": "r21f7DOH_1tE",
        "colab_type": "code",
        "colab": {}
      },
      "cell_type": "code",
      "source": [
        "## Save the model\n",
        "doodle_model.save(\"my_model.h5\")"
      ],
      "execution_count": 0,
      "outputs": []
    }
  ]
}