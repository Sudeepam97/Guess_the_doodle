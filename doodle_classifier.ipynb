{
  "nbformat": 4,
  "nbformat_minor": 0,
  "metadata": {
    "colab": {
      "name": "doodle_classifier.ipynb",
      "provenance": [],
      "collapsed_sections": [],
      "machine_shape": "hm",
      "include_colab_link": true
    },
    "kernelspec": {
      "name": "python3",
      "display_name": "Python 3"
    },
    "accelerator": "GPU"
  },
  "cells": [
    {
      "cell_type": "markdown",
      "metadata": {
        "id": "view-in-github",
        "colab_type": "text"
      },
      "source": [
        "<a href=\"https://colab.research.google.com/github/Sudeepam97/Guess_the_doodle/blob/master/doodle_classifier.ipynb\" target=\"_parent\"><img src=\"https://colab.research.google.com/assets/colab-badge.svg\" alt=\"Open In Colab\"/></a>"
      ]
    },
    {
      "cell_type": "code",
      "metadata": {
        "id": "Az4owlVlWyUa",
        "colab_type": "code",
        "colab": {}
      },
      "source": [
        "## Load the Drive helper and mount\n",
        "from google.colab import drive\n",
        "\n",
        "## This will prompt for authorization.\n",
        "drive.mount('/content/drive')"
      ],
      "execution_count": 0,
      "outputs": []
    },
    {
      "cell_type": "code",
      "metadata": {
        "id": "Nmzw1fIfW1vi",
        "colab_type": "code",
        "outputId": "73b374b9-9428-4d47-d321-8b7a98f9d461",
        "colab": {
          "base_uri": "https://localhost:8080/",
          "height": 34
        }
      },
      "source": [
        "## Set the preferred path\n",
        "%cd drive/My\\ Drive/Projects/doodle/"
      ],
      "execution_count": 2,
      "outputs": [
        {
          "output_type": "stream",
          "text": [
            "/content/drive/My Drive/Projects/doodle\n"
          ],
          "name": "stdout"
        }
      ]
    },
    {
      "cell_type": "code",
      "metadata": {
        "id": "CGNQK1OcXfrK",
        "colab_type": "code",
        "colab": {}
      },
      "source": [
        "## Define a function to read the output classes\n",
        "def read_classes():\n",
        "  f = open (\"classes\", \"r\")\n",
        "  out_classes = f.readlines()\n",
        "  f.close()\n",
        "  for i in range(0, len(out_classes)):\n",
        "    out_classes[i] = out_classes[i].replace('\\n', '').replace(' ', '_')\n",
        "  return out_classes"
      ],
      "execution_count": 0,
      "outputs": []
    },
    {
      "cell_type": "code",
      "metadata": {
        "id": "pK-55kiIBwvy",
        "colab_type": "code",
        "outputId": "b745bbc6-4762-4c1c-b945-7acf57d2284b",
        "colab": {
          "base_uri": "https://localhost:8080/",
          "height": 54
        }
      },
      "source": [
        "## Call\n",
        "out_classes = read_classes()\n",
        "print (out_classes)"
      ],
      "execution_count": 4,
      "outputs": [
        {
          "output_type": "stream",
          "text": [
            "['axe', 'airplane', 'apple', 'banana', 'baseball', 'baseball_bat', 'birthday_cake', 'book', 'bucket', 'bus', 'candle', 'camera', 'car', 'cell_phone', 'cloud', 'coffee_cup', 'crown', 'dolphin', 'donut', 'dumbbell', 'envelope', 'eye', 'eyeglasses', 'finger', 'fish', 'flashlight', 'flower', 'fork', 'golf_club', 'hammer', 'hand', 'headphones', 'hot_air_balloon', 'hourglass', 'ice_cream', 'key', 'knife', 'ladder', 'leaf', 'light_bulb', 'lightning', 'mountain', 'mushroom', 'octagon', 'pencil', 'pliers', 'screwdriver', 'see_saw', 'star', 'sword', 'syringe', 'tooth', 'toothbrush', 'traffic_light', 't-shirt', 'umbrella', 'vase', 'windmill', 'wine_glass', 'zigzag']\n"
          ],
          "name": "stdout"
        }
      ]
    },
    {
      "cell_type": "code",
      "metadata": {
        "id": "L3SU1q86aA1W",
        "colab_type": "code",
        "colab": {}
      },
      "source": [
        "## Define a function to download the data and store it in our Google drive.\n",
        "def obtain_dataset():\n",
        "  \n",
        "  import urllib.request\n",
        "  base_url = \"https://storage.googleapis.com/quickdraw_dataset/full/numpy_bitmap/\"\n",
        "  category = ''\n",
        "  \n",
        "  for i in range(0, len(out_classes)):\n",
        "    ## Create URL\n",
        "    category = out_classes[i].replace('_', '%20')\n",
        "    url = base_url + category + \".npy\"\n",
        "    ## Fetch...\n",
        "    print (\"downloading \" + url + \" ...\" )\n",
        "    urllib.request.urlretrieve(url, \"dataset/\" + out_classes[i] + \".npy\")"
      ],
      "execution_count": 0,
      "outputs": []
    },
    {
      "cell_type": "code",
      "metadata": {
        "id": "K69OWpEHnk71",
        "colab_type": "code",
        "outputId": "7bbba2d6-dd8f-446c-b47d-e4607574a686",
        "colab": {
          "base_uri": "https://localhost:8080/",
          "height": 1000
        }
      },
      "source": [
        "## Call\n",
        "%mkdir dataset\n",
        "obtain_dataset()"
      ],
      "execution_count": 0,
      "outputs": [
        {
          "output_type": "stream",
          "text": [
            "downloading https://storage.googleapis.com/quickdraw_dataset/full/numpy_bitmap/axe.npy ...\n",
            "downloading https://storage.googleapis.com/quickdraw_dataset/full/numpy_bitmap/airplane.npy ...\n",
            "downloading https://storage.googleapis.com/quickdraw_dataset/full/numpy_bitmap/apple.npy ...\n",
            "downloading https://storage.googleapis.com/quickdraw_dataset/full/numpy_bitmap/banana.npy ...\n",
            "downloading https://storage.googleapis.com/quickdraw_dataset/full/numpy_bitmap/baseball.npy ...\n",
            "downloading https://storage.googleapis.com/quickdraw_dataset/full/numpy_bitmap/baseball%20bat.npy ...\n",
            "downloading https://storage.googleapis.com/quickdraw_dataset/full/numpy_bitmap/birthday%20cake.npy ...\n",
            "downloading https://storage.googleapis.com/quickdraw_dataset/full/numpy_bitmap/book.npy ...\n",
            "downloading https://storage.googleapis.com/quickdraw_dataset/full/numpy_bitmap/bucket.npy ...\n",
            "downloading https://storage.googleapis.com/quickdraw_dataset/full/numpy_bitmap/bus.npy ...\n",
            "downloading https://storage.googleapis.com/quickdraw_dataset/full/numpy_bitmap/candle.npy ...\n",
            "downloading https://storage.googleapis.com/quickdraw_dataset/full/numpy_bitmap/camera.npy ...\n",
            "downloading https://storage.googleapis.com/quickdraw_dataset/full/numpy_bitmap/car.npy ...\n",
            "downloading https://storage.googleapis.com/quickdraw_dataset/full/numpy_bitmap/cell%20phone.npy ...\n",
            "downloading https://storage.googleapis.com/quickdraw_dataset/full/numpy_bitmap/cloud.npy ...\n",
            "downloading https://storage.googleapis.com/quickdraw_dataset/full/numpy_bitmap/coffee%20cup.npy ...\n",
            "downloading https://storage.googleapis.com/quickdraw_dataset/full/numpy_bitmap/crown.npy ...\n",
            "downloading https://storage.googleapis.com/quickdraw_dataset/full/numpy_bitmap/dolphin.npy ...\n",
            "downloading https://storage.googleapis.com/quickdraw_dataset/full/numpy_bitmap/donut.npy ...\n",
            "downloading https://storage.googleapis.com/quickdraw_dataset/full/numpy_bitmap/dumbbell.npy ...\n",
            "downloading https://storage.googleapis.com/quickdraw_dataset/full/numpy_bitmap/envelope.npy ...\n",
            "downloading https://storage.googleapis.com/quickdraw_dataset/full/numpy_bitmap/eye.npy ...\n",
            "downloading https://storage.googleapis.com/quickdraw_dataset/full/numpy_bitmap/eyeglasses.npy ...\n",
            "downloading https://storage.googleapis.com/quickdraw_dataset/full/numpy_bitmap/finger.npy ...\n",
            "downloading https://storage.googleapis.com/quickdraw_dataset/full/numpy_bitmap/fish.npy ...\n",
            "downloading https://storage.googleapis.com/quickdraw_dataset/full/numpy_bitmap/flashlight.npy ...\n",
            "downloading https://storage.googleapis.com/quickdraw_dataset/full/numpy_bitmap/flower.npy ...\n",
            "downloading https://storage.googleapis.com/quickdraw_dataset/full/numpy_bitmap/fork.npy ...\n",
            "downloading https://storage.googleapis.com/quickdraw_dataset/full/numpy_bitmap/golf%20club.npy ...\n",
            "downloading https://storage.googleapis.com/quickdraw_dataset/full/numpy_bitmap/hammer.npy ...\n",
            "downloading https://storage.googleapis.com/quickdraw_dataset/full/numpy_bitmap/hand.npy ...\n",
            "downloading https://storage.googleapis.com/quickdraw_dataset/full/numpy_bitmap/headphones.npy ...\n",
            "downloading https://storage.googleapis.com/quickdraw_dataset/full/numpy_bitmap/hot%20air%20balloon.npy ...\n",
            "downloading https://storage.googleapis.com/quickdraw_dataset/full/numpy_bitmap/hourglass.npy ...\n",
            "downloading https://storage.googleapis.com/quickdraw_dataset/full/numpy_bitmap/ice%20cream.npy ...\n",
            "downloading https://storage.googleapis.com/quickdraw_dataset/full/numpy_bitmap/key.npy ...\n",
            "downloading https://storage.googleapis.com/quickdraw_dataset/full/numpy_bitmap/knife.npy ...\n",
            "downloading https://storage.googleapis.com/quickdraw_dataset/full/numpy_bitmap/ladder.npy ...\n",
            "downloading https://storage.googleapis.com/quickdraw_dataset/full/numpy_bitmap/leaf.npy ...\n",
            "downloading https://storage.googleapis.com/quickdraw_dataset/full/numpy_bitmap/light%20bulb.npy ...\n",
            "downloading https://storage.googleapis.com/quickdraw_dataset/full/numpy_bitmap/lightning.npy ...\n",
            "downloading https://storage.googleapis.com/quickdraw_dataset/full/numpy_bitmap/mountain.npy ...\n",
            "downloading https://storage.googleapis.com/quickdraw_dataset/full/numpy_bitmap/mushroom.npy ...\n",
            "downloading https://storage.googleapis.com/quickdraw_dataset/full/numpy_bitmap/octagon.npy ...\n",
            "downloading https://storage.googleapis.com/quickdraw_dataset/full/numpy_bitmap/pencil.npy ...\n",
            "downloading https://storage.googleapis.com/quickdraw_dataset/full/numpy_bitmap/pliers.npy ...\n",
            "downloading https://storage.googleapis.com/quickdraw_dataset/full/numpy_bitmap/screwdriver.npy ...\n",
            "downloading https://storage.googleapis.com/quickdraw_dataset/full/numpy_bitmap/see%20saw.npy ...\n",
            "downloading https://storage.googleapis.com/quickdraw_dataset/full/numpy_bitmap/star.npy ...\n",
            "downloading https://storage.googleapis.com/quickdraw_dataset/full/numpy_bitmap/sword.npy ...\n",
            "downloading https://storage.googleapis.com/quickdraw_dataset/full/numpy_bitmap/syringe.npy ...\n",
            "downloading https://storage.googleapis.com/quickdraw_dataset/full/numpy_bitmap/tooth.npy ...\n",
            "downloading https://storage.googleapis.com/quickdraw_dataset/full/numpy_bitmap/toothbrush.npy ...\n",
            "downloading https://storage.googleapis.com/quickdraw_dataset/full/numpy_bitmap/traffic%20light.npy ...\n",
            "downloading https://storage.googleapis.com/quickdraw_dataset/full/numpy_bitmap/t-shirt.npy ...\n",
            "downloading https://storage.googleapis.com/quickdraw_dataset/full/numpy_bitmap/umbrella.npy ...\n",
            "downloading https://storage.googleapis.com/quickdraw_dataset/full/numpy_bitmap/vase.npy ...\n",
            "downloading https://storage.googleapis.com/quickdraw_dataset/full/numpy_bitmap/windmill.npy ...\n",
            "downloading https://storage.googleapis.com/quickdraw_dataset/full/numpy_bitmap/wine%20glass.npy ...\n",
            "downloading https://storage.googleapis.com/quickdraw_dataset/full/numpy_bitmap/zigzag.npy ...\n"
          ],
          "name": "stdout"
        }
      ]
    },
    {
      "cell_type": "code",
      "metadata": {
        "id": "5yIsooRa09cW",
        "colab_type": "code",
        "outputId": "6589ae4e-8740-4ff9-8103-0f03550f66bb",
        "colab": {
          "base_uri": "https://localhost:8080/",
          "height": 80
        }
      },
      "source": [
        "## Import the modules required to create our model.\n",
        "import numpy as np\n",
        "import matplotlib.pyplot as plt\n",
        "import keras\n",
        "from keras import layers"
      ],
      "execution_count": 5,
      "outputs": [
        {
          "output_type": "stream",
          "text": [
            "Using TensorFlow backend.\n"
          ],
          "name": "stderr"
        },
        {
          "output_type": "display_data",
          "data": {
            "text/html": [
              "<p style=\"color: red;\">\n",
              "The default version of TensorFlow in Colab will soon switch to TensorFlow 2.x.<br>\n",
              "We recommend you <a href=\"https://www.tensorflow.org/guide/migrate\" target=\"_blank\">upgrade</a> now \n",
              "or ensure your notebook will continue to use TensorFlow 1.x via the <code>%tensorflow_version 1.x</code> magic:\n",
              "<a href=\"https://colab.research.google.com/notebooks/tensorflow_version.ipynb\" target=\"_blank\">more info</a>.</p>\n"
            ],
            "text/plain": [
              "<IPython.core.display.HTML object>"
            ]
          },
          "metadata": {
            "tags": []
          }
        }
      ]
    },
    {
      "cell_type": "code",
      "metadata": {
        "id": "LsOhxu9W6sNn",
        "colab_type": "code",
        "outputId": "5bbc3792-ead6-4da5-87bc-591092e0f2e5",
        "colab": {
          "base_uri": "https://localhost:8080/",
          "height": 306
        }
      },
      "source": [
        "%cd dataset\n",
        "print()\n",
        "%ls"
      ],
      "execution_count": 6,
      "outputs": [
        {
          "output_type": "stream",
          "text": [
            "/content/drive/My Drive/Projects/doodle/dataset\n",
            "\n",
            "airplane.npy       coffee_cup.npy  hand.npy             pliers.npy\n",
            "apple.npy          crown.npy       headphones.npy       screwdriver.npy\n",
            "axe.npy            dolphin.npy     hot_air_balloon.npy  see_saw.npy\n",
            "banana.npy         donut.npy       hourglass.npy        star.npy\n",
            "baseball_bat.npy   dumbbell.npy    ice_cream.npy        sword.npy\n",
            "baseball.npy       envelope.npy    key.npy              syringe.npy\n",
            "birthday_cake.npy  eyeglasses.npy  knife.npy            toothbrush.npy\n",
            "book.npy           eye.npy         ladder.npy           tooth.npy\n",
            "bucket.npy         finger.npy      leaf.npy             traffic_light.npy\n",
            "bus.npy            fish.npy        light_bulb.npy       t-shirt.npy\n",
            "camera.npy         flashlight.npy  lightning.npy        umbrella.npy\n",
            "candle.npy         flower.npy      mountain.npy         vase.npy\n",
            "car.npy            fork.npy        mushroom.npy         windmill.npy\n",
            "cell_phone.npy     golf_club.npy   octagon.npy          wine_glass.npy\n",
            "cloud.npy          hammer.npy      pencil.npy           zigzag.npy\n"
          ],
          "name": "stdout"
        }
      ]
    },
    {
      "cell_type": "code",
      "metadata": {
        "id": "Of6bSfv67fRI",
        "colab_type": "code",
        "colab": {}
      },
      "source": [
        "## A function to load the data and split it into training and test sets.\n",
        "def load_dataset():\n",
        "  ## Initialize variables\n",
        "  X = np.empty([0, 784])\n",
        "  Y = np.empty([0, 1])\n",
        "  images_per_class = 12000\n",
        "  test_set_size = 10000\n",
        "  \n",
        "  ## Load the dataset\n",
        "  for i in range(0, len(out_classes)):\n",
        "    imgs = np.load((out_classes[i] + \".npy\"))   # Load images of a given doodle\n",
        "    imgs = imgs[0 : images_per_class, :]        # Select the first 12000 images\n",
        "    labels = np.full((images_per_class, 1), i)  # Create labels for the given doodle\n",
        "    X = np.concatenate((X, imgs), axis = 0)     # Concatenate examples of each doodle\n",
        "    Y = np.concatenate((Y, labels), axis = 0)   # Concatenate the labels\n",
        "    del imgs          # Take extra care to make sure we don't run out of memory.\n",
        "\n",
        "  ## Randomise the dataset\n",
        "  np.random.seed(1)\n",
        "  order = np.random.permutation(Y.shape[0])\n",
        "  X = X[order, :]\n",
        "  Y = Y[order, :]\n",
        "  \n",
        "  ## Split the data into training and test sets\n",
        "  X_test = X[0 : test_set_size, :]\n",
        "  Y_test = Y[0 : test_set_size, :]\n",
        "  X_train = X[test_set_size : X.shape[0], :]\n",
        "  Y_train = Y[test_set_size : Y.shape[0], :]\n",
        "  \n",
        "  return X_train, Y_train, X_test, Y_test"
      ],
      "execution_count": 0,
      "outputs": []
    },
    {
      "cell_type": "code",
      "metadata": {
        "id": "mDIuF8BzPPXq",
        "colab_type": "code",
        "colab": {}
      },
      "source": [
        "## Load the dataset\n",
        "X_train, Y_train, X_test, Y_test = load_dataset()"
      ],
      "execution_count": 0,
      "outputs": []
    },
    {
      "cell_type": "code",
      "metadata": {
        "id": "y6pwSLP_Z717",
        "colab_type": "code",
        "outputId": "a9df9d2e-77b1-4375-e2b1-36e1ef59f334",
        "colab": {
          "base_uri": "https://localhost:8080/",
          "height": 85
        }
      },
      "source": [
        "## Sanity check the shape of out input.\n",
        "print(\"X_train shape:\", X_train.shape)\n",
        "print(\"Y_train shape:\", Y_train.shape)\n",
        "print(\"X_test shape: \", X_test.shape)\n",
        "print(\"Y_test shape: \", Y_test.shape)"
      ],
      "execution_count": 9,
      "outputs": [
        {
          "output_type": "stream",
          "text": [
            "X_train shape: (710000, 784)\n",
            "Y_train shape: (710000, 1)\n",
            "X_test shape:  (10000, 784)\n",
            "Y_test shape:  (10000, 1)\n"
          ],
          "name": "stdout"
        }
      ]
    },
    {
      "cell_type": "code",
      "metadata": {
        "id": "LL2OnWgobrS-",
        "colab_type": "code",
        "outputId": "4c842178-7dd0-4341-f466-0e2774ef6a30",
        "colab": {
          "base_uri": "https://localhost:8080/",
          "height": 282
        }
      },
      "source": [
        "## Visualize an image (Try changing the index below)\n",
        "ind = 900\n",
        "img = X_train[ind].reshape(28, 28)\n",
        "print(out_classes[int(Y_train[ind])])\n",
        "plt.imshow(img, cmap='gray_r')\n",
        "plt.show()"
      ],
      "execution_count": 10,
      "outputs": [
        {
          "output_type": "stream",
          "text": [
            "envelope\n"
          ],
          "name": "stdout"
        },
        {
          "output_type": "display_data",
          "data": {
            "image/png": "[encoded data removed]",
            "text/plain": [
              "<Figure size 432x288 with 1 Axes>"
            ]
          },
          "metadata": {
            "tags": []
          }
        }
      ]
    },
    {
      "cell_type": "code",
      "metadata": {
        "id": "JkYEKJuQcajH",
        "colab_type": "code",
        "colab": {}
      },
      "source": [
        "## Reshape image vectors.\n",
        "image_size = 28\n",
        "X_train = X_train.reshape(X_train.shape[0], image_size, image_size, 1)\n",
        "X_test = X_test.reshape(X_test.shape[0], image_size, image_size, 1)\n",
        "\n",
        "## Pad the images to centre the content\n",
        "X_train = np.pad(X_train, ((0,0), (2,2), (2,2), (0,0)), mode='constant')\n",
        "X_test = np.pad(X_test, ((0,0), (2,2), (2,2), (0,0)), mode='constant')\n",
        "\n",
        "## Create one hot vectors for class labels.\n",
        "Y_train = keras.utils.to_categorical(Y_train, len(out_classes))\n",
        "Y_test = keras.utils.to_categorical(Y_test, len(out_classes))\n",
        "\n",
        "## Normalize the dataset\n",
        "X_train = X_train / 255\n",
        "X_test = X_test / 255"
      ],
      "execution_count": 0,
      "outputs": []
    },
    {
      "cell_type": "code",
      "metadata": {
        "id": "lue1NIFVgjAZ",
        "colab_type": "code",
        "outputId": "06280b00-e41f-46e3-d5bd-1fd052335d52",
        "colab": {
          "base_uri": "https://localhost:8080/",
          "height": 85
        }
      },
      "source": [
        "## Sanity check the shape of data-sets.\n",
        "print(\"X_train shape:\", X_train.shape)\n",
        "print(\"Y_train shape:\", Y_train.shape)\n",
        "print(\"X_test shape: \", X_test.shape)\n",
        "print(\"Y_test shape: \", Y_test.shape)"
      ],
      "execution_count": 12,
      "outputs": [
        {
          "output_type": "stream",
          "text": [
            "X_train shape: (710000, 32, 32, 1)\n",
            "Y_train shape: (710000, 60)\n",
            "X_test shape:  (10000, 32, 32, 1)\n",
            "Y_test shape:  (10000, 60)\n"
          ],
          "name": "stdout"
        }
      ]
    },
    {
      "cell_type": "code",
      "metadata": {
        "id": "zgJDnDOZfG25",
        "colab_type": "code",
        "colab": {}
      },
      "source": [
        "def create_model(input_shape):\n",
        "  model = keras.Sequential()\n",
        "  \n",
        "  model.add(layers.Conv2D(6, (5, 5), input_shape = input_shape, activation = 'relu'))\n",
        "  model.add(layers.BatchNormalization(axis = 3))\n",
        "  model.add(layers.MaxPooling2D(pool_size = (2, 2)))\n",
        "  \n",
        "  model.add(layers.Conv2D(16, (5, 5), activation = 'relu'))\n",
        "  model.add(layers.BatchNormalization(axis = 3))\n",
        "  model.add(layers.MaxPooling2D(pool_size = (2, 2)))\n",
        "\n",
        "  model.add(layers.Flatten())\n",
        "  model.add(layers.Dense(120, activation = 'relu'))\n",
        "  model.add(layers.Dense(84, activation = 'relu'))\n",
        "  model.add(layers.Dense(60, activation = 'softmax')) \n",
        "  \n",
        "  return model"
      ],
      "execution_count": 0,
      "outputs": []
    },
    {
      "cell_type": "code",
      "metadata": {
        "id": "W3ez9Op2vTR8",
        "colab_type": "code",
        "outputId": "ca4b00be-1729-465a-e37d-5afbf52a2636",
        "colab": {
          "base_uri": "https://localhost:8080/",
          "height": 510
        }
      },
      "source": [
        "## Create the model\n",
        "doodle_model = create_model((X_train.shape[1], X_train.shape[2], 1))\n",
        "print (doodle_model.summary())"
      ],
      "execution_count": 20,
      "outputs": [
        {
          "output_type": "stream",
          "text": [
            "Model: \"sequential_3\"\n",
            "_________________________________________________________________\n",
            "Layer (type)                 Output Shape              Param #   \n",
            "=================================================================\n",
            "conv2d_5 (Conv2D)            (None, 28, 28, 6)         156       \n",
            "_________________________________________________________________\n",
            "batch_normalization_5 (Batch (None, 28, 28, 6)         24        \n",
            "_________________________________________________________________\n",
            "max_pooling2d_5 (MaxPooling2 (None, 14, 14, 6)         0         \n",
            "_________________________________________________________________\n",
            "conv2d_6 (Conv2D)            (None, 10, 10, 16)        2416      \n",
            "_________________________________________________________________\n",
            "batch_normalization_6 (Batch (None, 10, 10, 16)        64        \n",
            "_________________________________________________________________\n",
            "max_pooling2d_6 (MaxPooling2 (None, 5, 5, 16)          0         \n",
            "_________________________________________________________________\n",
            "flatten_3 (Flatten)          (None, 400)               0         \n",
            "_________________________________________________________________\n",
            "dense_7 (Dense)              (None, 120)               48120     \n",
            "_________________________________________________________________\n",
            "dense_8 (Dense)              (None, 84)                10164     \n",
            "_________________________________________________________________\n",
            "dense_9 (Dense)              (None, 60)                5100      \n",
            "=================================================================\n",
            "Total params: 66,044\n",
            "Trainable params: 66,000\n",
            "Non-trainable params: 44\n",
            "_________________________________________________________________\n",
            "None\n"
          ],
          "name": "stdout"
        }
      ]
    },
    {
      "cell_type": "code",
      "metadata": {
        "id": "WScqbTOsvuFw",
        "colab_type": "code",
        "colab": {}
      },
      "source": [
        "## Compile the model\n",
        "doodle_model.compile (optimizer = \"Adam\", loss = \"categorical_crossentropy\", metrics = [\"accuracy\"])"
      ],
      "execution_count": 0,
      "outputs": []
    },
    {
      "cell_type": "code",
      "metadata": {
        "id": "MSi46ssAwKSe",
        "colab_type": "code",
        "outputId": "bfb6c37d-3ef5-4af0-ed04-c26f2e336f05",
        "colab": {
          "base_uri": "https://localhost:8080/",
          "height": 792
        }
      },
      "source": [
        "## Fit the model\n",
        "history = doodle_model.fit (x = X_train, y = Y_train, epochs = 15, batch_size = 128)\n",
        "plt.plot(history.history['loss'])"
      ],
      "execution_count": 22,
      "outputs": [
        {
          "output_type": "stream",
          "text": [
            "Epoch 1/15\n",
            "710000/710000 [==============================] - 38s 54us/step - loss: 0.9584 - acc: 0.7539\n",
            "Epoch 2/15\n",
            "710000/710000 [==============================] - 38s 54us/step - loss: 0.6961 - acc: 0.8190\n",
            "Epoch 3/15\n",
            "710000/710000 [==============================] - 38s 54us/step - loss: 0.6418 - acc: 0.8322\n",
            "Epoch 4/15\n",
            "710000/710000 [==============================] - 38s 53us/step - loss: 0.6101 - acc: 0.8402\n",
            "Epoch 5/15\n",
            "710000/710000 [==============================] - 39s 55us/step - loss: 0.5888 - acc: 0.8455\n",
            "Epoch 6/15\n",
            "710000/710000 [==============================] - 38s 53us/step - loss: 0.5729 - acc: 0.8498\n",
            "Epoch 7/15\n",
            "710000/710000 [==============================] - 37s 53us/step - loss: 0.5602 - acc: 0.8527\n",
            "Epoch 8/15\n",
            "710000/710000 [==============================] - 37s 53us/step - loss: 0.5500 - acc: 0.8552\n",
            "Epoch 9/15\n",
            "710000/710000 [==============================] - 37s 52us/step - loss: 0.5418 - acc: 0.8575\n",
            "Epoch 10/15\n",
            "710000/710000 [==============================] - 38s 53us/step - loss: 0.5347 - acc: 0.8593\n",
            "Epoch 11/15\n",
            "710000/710000 [==============================] - 37s 53us/step - loss: 0.5287 - acc: 0.8607\n",
            "Epoch 12/15\n",
            "710000/710000 [==============================] - 37s 53us/step - loss: 0.5236 - acc: 0.8623\n",
            "Epoch 13/15\n",
            "710000/710000 [==============================] - 38s 53us/step - loss: 0.5186 - acc: 0.8632\n",
            "Epoch 14/15\n",
            "710000/710000 [==============================] - 38s 53us/step - loss: 0.5142 - acc: 0.8646\n",
            "Epoch 15/15\n",
            "710000/710000 [==============================] - 37s 53us/step - loss: 0.5106 - acc: 0.8654\n"
          ],
          "name": "stdout"
        },
        {
          "output_type": "execute_result",
          "data": {
            "text/plain": [
              "[<matplotlib.lines.Line2D at 0x7fbeb05453c8>]"
            ]
          },
          "metadata": {
            "tags": []
          },
          "execution_count": 22
        },
        {
          "output_type": "display_data",
          "data": {
            "image/png": "[encoded data removed]",
            "text/plain": [
              "<Figure size 432x288 with 1 Axes>"
            ]
          },
          "metadata": {
            "tags": []
          }
        }
      ]
    },
    {
      "cell_type": "code",
      "metadata": {
        "id": "EnbvAm9Vwlej",
        "colab_type": "code",
        "outputId": "350542f2-e3dc-4a1d-c0eb-ec07b3fe9445",
        "colab": {
          "base_uri": "https://localhost:8080/",
          "height": 68
        }
      },
      "source": [
        "metric_measures = doodle_model.evaluate(x = X_test, y = Y_test)\n",
        "print (\"Loss = \" + str(metric_measures[0]))\n",
        "print (\"Test Accuracy = \" + str(metric_measures[1]))"
      ],
      "execution_count": 23,
      "outputs": [
        {
          "output_type": "stream",
          "text": [
            "10000/10000 [==============================] - 1s 69us/step\n",
            "Loss = 0.5680009996652603\n",
            "Test Accuracy = 0.8489\n"
          ],
          "name": "stdout"
        }
      ]
    },
    {
      "cell_type": "code",
      "metadata": {
        "id": "qaRiFfL_2R3-",
        "colab_type": "code",
        "outputId": "521756b8-070f-4d55-93d1-c78465f1d028",
        "colab": {
          "base_uri": "https://localhost:8080/",
          "height": 283
        }
      },
      "source": [
        "## Let us make a prediction with our doodle_model.\n",
        "ind = 784\n",
        "img = X_test[ind]\n",
        "plt.imshow(img.reshape(32, 32), cmap='gray_r')\n",
        "pred_pobs = doodle_model.predict(np.expand_dims(img, axis=0))\n",
        "prediction = out_classes[np.argmax(pred_pobs[0, :])]\n",
        "print(prediction)"
      ],
      "execution_count": 24,
      "outputs": [
        {
          "output_type": "stream",
          "text": [
            "camera\n"
          ],
          "name": "stdout"
        },
        {
          "output_type": "display_data",
          "data": {
            "image/png": "[encoded data removed]",
            "text/plain": [
              "<Figure size 432x288 with 1 Axes>"
            ]
          },
          "metadata": {
            "tags": []
          }
        }
      ]
    },
    {
      "cell_type": "code",
      "metadata": {
        "id": "r21f7DOH_1tE",
        "colab_type": "code",
        "outputId": "1befd23f-fa85-4caa-d3c1-1324308ee575",
        "colab": {
          "base_uri": "https://localhost:8080/",
          "height": 34
        }
      },
      "source": [
        "## Save the model\n",
        "%cd ..\n",
        "doodle_model.save(\"doodle_model.h5\")"
      ],
      "execution_count": 25,
      "outputs": [
        {
          "output_type": "stream",
          "text": [
            "/content/drive/My Drive/Projects/doodle\n"
          ],
          "name": "stdout"
        }
      ]
    }
  ]
}