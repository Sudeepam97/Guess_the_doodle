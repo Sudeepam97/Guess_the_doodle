{
  "nbformat": 4,
  "nbformat_minor": 0,
  "metadata": {
    "colab": {
      "name": "doodle_classifier.ipynb",
      "version": "0.3.2",
      "provenance": [],
      "collapsed_sections": [],
      "include_colab_link": true
    },
    "kernelspec": {
      "name": "python3",
      "display_name": "Python 3"
    },
    "accelerator": "GPU"
  },
  "cells": [
    {
      "cell_type": "markdown",
      "metadata": {
        "id": "view-in-github",
        "colab_type": "text"
      },
      "source": [
        "<a href=\"https://colab.research.google.com/github/Sudeepam97/Guess_the_doodle/blob/master/doodle_classifier.ipynb\" target=\"_parent\"><img src=\"https://colab.research.google.com/assets/colab-badge.svg\" alt=\"Open In Colab\"/></a>"
      ]
    },
    {
      "cell_type": "code",
      "metadata": {
        "id": "Az4owlVlWyUa",
        "colab_type": "code",
        "outputId": "945a1f3e-f956-4225-dac1-867580237141",
        "colab": {
          "base_uri": "https://localhost:8080/",
          "height": 34
        }
      },
      "source": [
        "## Load the Drive helper and mount\n",
        "from google.colab import drive\n",
        "\n",
        "## This will prompt for authorization.\n",
        "drive.mount('/content/drive')"
      ],
      "execution_count": 0,
      "outputs": [
        {
          "output_type": "stream",
          "text": [
            "Drive already mounted at /content/drive; to attempt to forcibly remount, call drive.mount(\"/content/drive\", force_remount=True).\n"
          ],
          "name": "stdout"
        }
      ]
    },
    {
      "cell_type": "code",
      "metadata": {
        "id": "Nmzw1fIfW1vi",
        "colab_type": "code",
        "outputId": "e6cb09d3-af8f-42a5-ef18-e5b8b6f0b8fd",
        "colab": {
          "base_uri": "https://localhost:8080/",
          "height": 34
        }
      },
      "source": [
        "## Set the preferred path\n",
        "%cd drive/My\\ Drive/Projects/guess_the_doodle/"
      ],
      "execution_count": 0,
      "outputs": [
        {
          "output_type": "stream",
          "text": [
            "/content/drive/My Drive/Projects/guess_the_doodle\n"
          ],
          "name": "stdout"
        }
      ]
    },
    {
      "cell_type": "code",
      "metadata": {
        "id": "CGNQK1OcXfrK",
        "colab_type": "code",
        "colab": {}
      },
      "source": [
        "## Define a function to read the output classes\n",
        "def read_classes():\n",
        "  f = open (\"classes\", \"r\")\n",
        "  out_classes = f.readlines()\n",
        "  f.close()\n",
        "  for i in range(0, len(out_classes)):\n",
        "    out_classes[i] = out_classes[i].replace('\\n', '').replace(' ', '_')\n",
        "  return out_classes"
      ],
      "execution_count": 0,
      "outputs": []
    },
    {
      "cell_type": "code",
      "metadata": {
        "id": "pK-55kiIBwvy",
        "colab_type": "code",
        "outputId": "20f64673-a5b6-4ac5-df22-f2e89b07675c",
        "colab": {
          "base_uri": "https://localhost:8080/",
          "height": 54
        }
      },
      "source": [
        "## Call\n",
        "out_classes = read_classes()\n",
        "print (out_classes)"
      ],
      "execution_count": 0,
      "outputs": [
        {
          "output_type": "stream",
          "text": [
            "['airplane', 'apple', 'axe', 'banana', 'baseball', 'baseball_bat', 'birthday_cake', 'book', 'bucket', 'bus', 'candle', 'camera', 'car', 'cell_phone', 'cloud', 'coffee_cup', 'crown', 'dolphin', 'donut', 'dumbbell', 'envelope', 'eye', 'eyeglasses', 'finger', 'fish', 'flashlight', 'flower', 'fork', 'golf_club', 'hammer', 'hand', 'headphones', 'hot_air_balloon', 'hourglass', 'ice_cream', 'key', 'knife', 'ladder', 'leaf', 'light_bulb', 'lightning', 'mountain', 'mushroom', 'octagon', 'pencil', 'pliers', 'screwdriver', 'see_saw', 'star', 'sword', 'syringe', 'tooth', 'toothbrush', 'traffic_light', 't-shirt', 'umbrella', 'vase', 'windmill', 'wine_glass', 'zigzag']\n"
          ],
          "name": "stdout"
        }
      ]
    },
    {
      "cell_type": "code",
      "metadata": {
        "id": "L3SU1q86aA1W",
        "colab_type": "code",
        "colab": {}
      },
      "source": [
        "## Define a function to download the data and store it in our Google drive.\n",
        "def obtain_dataset():\n",
        "  \n",
        "  import urllib.request\n",
        "  base_url = \"https://storage.googleapis.com/quickdraw_dataset/full/numpy_bitmap/\"\n",
        "  category = ''\n",
        "  \n",
        "  for i in range(0, len(out_classes)):\n",
        "    ## Create URL\n",
        "    category = out_classes[i].replace('_', '%20')\n",
        "    url = base_url + category + \".npy\"\n",
        "    ## Fetch...\n",
        "    print (\"downloading \" + url + \" ...\" )\n",
        "    urllib.request.urlretrieve(url, \"dataset/\" + out_classes[i] + \".npy\")"
      ],
      "execution_count": 0,
      "outputs": []
    },
    {
      "cell_type": "code",
      "metadata": {
        "id": "K69OWpEHnk71",
        "colab_type": "code",
        "outputId": "c38f43a5-9755-4edc-f869-f3892fc0d348",
        "colab": {
          "base_uri": "https://localhost:8080/",
          "height": 1037
        }
      },
      "source": [
        "## Call\n",
        "%mkdir dataset\n",
        "obtain_dataset()"
      ],
      "execution_count": 0,
      "outputs": [
        {
          "output_type": "stream",
          "text": [
            "downloading https://storage.googleapis.com/quickdraw_dataset/full/numpy_bitmap/airplane.npy ...\n",
            "downloading https://storage.googleapis.com/quickdraw_dataset/full/numpy_bitmap/apple.npy ...\n",
            "downloading https://storage.googleapis.com/quickdraw_dataset/full/numpy_bitmap/axe.npy ...\n",
            "downloading https://storage.googleapis.com/quickdraw_dataset/full/numpy_bitmap/banana.npy ...\n",
            "downloading https://storage.googleapis.com/quickdraw_dataset/full/numpy_bitmap/baseball.npy ...\n",
            "downloading https://storage.googleapis.com/quickdraw_dataset/full/numpy_bitmap/baseball%20bat.npy ...\n",
            "downloading https://storage.googleapis.com/quickdraw_dataset/full/numpy_bitmap/birthday%20cake.npy ...\n",
            "downloading https://storage.googleapis.com/quickdraw_dataset/full/numpy_bitmap/book.npy ...\n",
            "downloading https://storage.googleapis.com/quickdraw_dataset/full/numpy_bitmap/bucket.npy ...\n",
            "downloading https://storage.googleapis.com/quickdraw_dataset/full/numpy_bitmap/bus.npy ...\n",
            "downloading https://storage.googleapis.com/quickdraw_dataset/full/numpy_bitmap/candle.npy ...\n",
            "downloading https://storage.googleapis.com/quickdraw_dataset/full/numpy_bitmap/camera.npy ...\n",
            "downloading https://storage.googleapis.com/quickdraw_dataset/full/numpy_bitmap/car.npy ...\n",
            "downloading https://storage.googleapis.com/quickdraw_dataset/full/numpy_bitmap/cell%20phone.npy ...\n",
            "downloading https://storage.googleapis.com/quickdraw_dataset/full/numpy_bitmap/cloud.npy ...\n",
            "downloading https://storage.googleapis.com/quickdraw_dataset/full/numpy_bitmap/coffee%20cup.npy ...\n",
            "downloading https://storage.googleapis.com/quickdraw_dataset/full/numpy_bitmap/crown.npy ...\n",
            "downloading https://storage.googleapis.com/quickdraw_dataset/full/numpy_bitmap/dolphin.npy ...\n",
            "downloading https://storage.googleapis.com/quickdraw_dataset/full/numpy_bitmap/donut.npy ...\n",
            "downloading https://storage.googleapis.com/quickdraw_dataset/full/numpy_bitmap/dumbbell.npy ...\n",
            "downloading https://storage.googleapis.com/quickdraw_dataset/full/numpy_bitmap/envelope.npy ...\n",
            "downloading https://storage.googleapis.com/quickdraw_dataset/full/numpy_bitmap/eye.npy ...\n",
            "downloading https://storage.googleapis.com/quickdraw_dataset/full/numpy_bitmap/eyeglasses.npy ...\n",
            "downloading https://storage.googleapis.com/quickdraw_dataset/full/numpy_bitmap/finger.npy ...\n",
            "downloading https://storage.googleapis.com/quickdraw_dataset/full/numpy_bitmap/fish.npy ...\n",
            "downloading https://storage.googleapis.com/quickdraw_dataset/full/numpy_bitmap/flashlight.npy ...\n",
            "downloading https://storage.googleapis.com/quickdraw_dataset/full/numpy_bitmap/flower.npy ...\n",
            "downloading https://storage.googleapis.com/quickdraw_dataset/full/numpy_bitmap/fork.npy ...\n",
            "downloading https://storage.googleapis.com/quickdraw_dataset/full/numpy_bitmap/golf%20club.npy ...\n",
            "downloading https://storage.googleapis.com/quickdraw_dataset/full/numpy_bitmap/hammer.npy ...\n",
            "downloading https://storage.googleapis.com/quickdraw_dataset/full/numpy_bitmap/hand.npy ...\n",
            "downloading https://storage.googleapis.com/quickdraw_dataset/full/numpy_bitmap/headphones.npy ...\n",
            "downloading https://storage.googleapis.com/quickdraw_dataset/full/numpy_bitmap/hot%20air%20balloon.npy ...\n",
            "downloading https://storage.googleapis.com/quickdraw_dataset/full/numpy_bitmap/hourglass.npy ...\n",
            "downloading https://storage.googleapis.com/quickdraw_dataset/full/numpy_bitmap/ice%20cream.npy ...\n",
            "downloading https://storage.googleapis.com/quickdraw_dataset/full/numpy_bitmap/key.npy ...\n",
            "downloading https://storage.googleapis.com/quickdraw_dataset/full/numpy_bitmap/knife.npy ...\n",
            "downloading https://storage.googleapis.com/quickdraw_dataset/full/numpy_bitmap/ladder.npy ...\n",
            "downloading https://storage.googleapis.com/quickdraw_dataset/full/numpy_bitmap/leaf.npy ...\n",
            "downloading https://storage.googleapis.com/quickdraw_dataset/full/numpy_bitmap/light%20bulb.npy ...\n",
            "downloading https://storage.googleapis.com/quickdraw_dataset/full/numpy_bitmap/lightning.npy ...\n",
            "downloading https://storage.googleapis.com/quickdraw_dataset/full/numpy_bitmap/mountain.npy ...\n",
            "downloading https://storage.googleapis.com/quickdraw_dataset/full/numpy_bitmap/mushroom.npy ...\n",
            "downloading https://storage.googleapis.com/quickdraw_dataset/full/numpy_bitmap/octagon.npy ...\n",
            "downloading https://storage.googleapis.com/quickdraw_dataset/full/numpy_bitmap/pencil.npy ...\n",
            "downloading https://storage.googleapis.com/quickdraw_dataset/full/numpy_bitmap/pliers.npy ...\n",
            "downloading https://storage.googleapis.com/quickdraw_dataset/full/numpy_bitmap/screwdriver.npy ...\n",
            "downloading https://storage.googleapis.com/quickdraw_dataset/full/numpy_bitmap/see%20saw.npy ...\n",
            "downloading https://storage.googleapis.com/quickdraw_dataset/full/numpy_bitmap/star.npy ...\n",
            "downloading https://storage.googleapis.com/quickdraw_dataset/full/numpy_bitmap/sword.npy ...\n",
            "downloading https://storage.googleapis.com/quickdraw_dataset/full/numpy_bitmap/syringe.npy ...\n",
            "downloading https://storage.googleapis.com/quickdraw_dataset/full/numpy_bitmap/tooth.npy ...\n",
            "downloading https://storage.googleapis.com/quickdraw_dataset/full/numpy_bitmap/toothbrush.npy ...\n",
            "downloading https://storage.googleapis.com/quickdraw_dataset/full/numpy_bitmap/traffic%20light.npy ...\n",
            "downloading https://storage.googleapis.com/quickdraw_dataset/full/numpy_bitmap/t-shirt.npy ...\n",
            "downloading https://storage.googleapis.com/quickdraw_dataset/full/numpy_bitmap/umbrella.npy ...\n",
            "downloading https://storage.googleapis.com/quickdraw_dataset/full/numpy_bitmap/vase.npy ...\n",
            "downloading https://storage.googleapis.com/quickdraw_dataset/full/numpy_bitmap/windmill.npy ...\n",
            "downloading https://storage.googleapis.com/quickdraw_dataset/full/numpy_bitmap/wine%20glass.npy ...\n",
            "downloading https://storage.googleapis.com/quickdraw_dataset/full/numpy_bitmap/zigzag.npy ...\n"
          ],
          "name": "stdout"
        }
      ]
    },
    {
      "cell_type": "code",
      "metadata": {
        "id": "5yIsooRa09cW",
        "colab_type": "code",
        "outputId": "3bfc0ac5-1429-43ef-a00f-aa28c289e30f",
        "colab": {
          "base_uri": "https://localhost:8080/",
          "height": 34
        }
      },
      "source": [
        "## Import the modules required to create our model.\n",
        "import numpy as np\n",
        "import matplotlib.pyplot as plt\n",
        "import keras\n",
        "from keras import layers"
      ],
      "execution_count": 0,
      "outputs": [
        {
          "output_type": "stream",
          "text": [
            "Using TensorFlow backend.\n"
          ],
          "name": "stderr"
        }
      ]
    },
    {
      "cell_type": "code",
      "metadata": {
        "id": "LsOhxu9W6sNn",
        "colab_type": "code",
        "outputId": "eb14673b-0526-4520-c3dc-6d4403ac0993",
        "colab": {
          "base_uri": "https://localhost:8080/",
          "height": 306
        }
      },
      "source": [
        "%cd dataset\n",
        "print()\n",
        "%ls"
      ],
      "execution_count": 0,
      "outputs": [
        {
          "output_type": "stream",
          "text": [
            "/content/drive/My Drive/Projects/guess_the_doodle/dataset\n",
            "\n",
            "airplane.npy       coffee_cup.npy  hand.npy             pliers.npy\n",
            "apple.npy          crown.npy       headphones.npy       screwdriver.npy\n",
            "axe.npy            dolphin.npy     hot_air_balloon.npy  see_saw.npy\n",
            "banana.npy         donut.npy       hourglass.npy        star.npy\n",
            "baseball_bat.npy   dumbbell.npy    ice_cream.npy        sword.npy\n",
            "baseball.npy       envelope.npy    key.npy              syringe.npy\n",
            "birthday_cake.npy  eyeglasses.npy  knife.npy            toothbrush.npy\n",
            "book.npy           eye.npy         ladder.npy           tooth.npy\n",
            "bucket.npy         finger.npy      leaf.npy             traffic_light.npy\n",
            "bus.npy            fish.npy        light_bulb.npy       t-shirt.npy\n",
            "camera.npy         flashlight.npy  lightning.npy        umbrella.npy\n",
            "candle.npy         flower.npy      mountain.npy         vase.npy\n",
            "car.npy            fork.npy        mushroom.npy         windmill.npy\n",
            "cell_phone.npy     golf_club.npy   octagon.npy          wine_glass.npy\n",
            "cloud.npy          hammer.npy      pencil.npy           zigzag.npy\n"
          ],
          "name": "stdout"
        }
      ]
    },
    {
      "cell_type": "code",
      "metadata": {
        "id": "Of6bSfv67fRI",
        "colab_type": "code",
        "colab": {}
      },
      "source": [
        "## A function to load the data and split it into training and test sets.\n",
        "def load_dataset():\n",
        "  ## Initialize variables\n",
        "  X = np.empty([0, 784])\n",
        "  Y = np.empty([0, 1])\n",
        "  images_per_class = 12000\n",
        "  test_set_size = 10000\n",
        "  \n",
        "  ## Load the dataset\n",
        "  for i in range(0, len(out_classes)):\n",
        "    imgs = np.load((out_classes[i] + \".npy\"))   # Load images of a given doodle\n",
        "    imgs = imgs[0 : images_per_class, :]        # Select the first 12000 images\n",
        "    labels = np.full((images_per_class, 1), i)  # Create labels for the given doodle\n",
        "    X = np.concatenate((X, imgs), axis = 0)     # Concatenate examples of each doodle\n",
        "    Y = np.concatenate((Y, labels), axis = 0)   # Concatenate the labels\n",
        "    del imgs          # Take extra care to make sure we don't run out of memory.\n",
        "\n",
        "  ## Randomise the dataset\n",
        "  np.random.seed(1)\n",
        "  order = np.random.permutation(Y.shape[0])\n",
        "  X = X[order, :]\n",
        "  Y = Y[order, :]\n",
        "  \n",
        "  ## Split the data into training and test sets\n",
        "  X_test = X[0 : test_set_size, :]\n",
        "  Y_test = Y[0 : test_set_size, :]\n",
        "  X_train = X[test_set_size : X.shape[0], :]\n",
        "  Y_train = Y[test_set_size : Y.shape[0], :]\n",
        "  \n",
        "  return X_train, Y_train, X_test, Y_test"
      ],
      "execution_count": 0,
      "outputs": []
    },
    {
      "cell_type": "code",
      "metadata": {
        "id": "mDIuF8BzPPXq",
        "colab_type": "code",
        "colab": {}
      },
      "source": [
        "## Load the dataset\n",
        "X_train, Y_train, X_test, Y_test = load_dataset()"
      ],
      "execution_count": 0,
      "outputs": []
    },
    {
      "cell_type": "code",
      "metadata": {
        "id": "y6pwSLP_Z717",
        "colab_type": "code",
        "outputId": "29f157cd-11c1-4e0d-9ce5-f198b1a547d0",
        "colab": {
          "base_uri": "https://localhost:8080/",
          "height": 85
        }
      },
      "source": [
        "## Sanity check the shape of out input.\n",
        "print(\"X_train shape:\", X_train.shape)\n",
        "print(\"Y_train shape:\", Y_train.shape)\n",
        "print(\"X_test shape: \", X_test.shape)\n",
        "print(\"Y_test shape: \", Y_test.shape)"
      ],
      "execution_count": 0,
      "outputs": [
        {
          "output_type": "stream",
          "text": [
            "X_train shape: (710000, 784)\n",
            "Y_train shape: (710000, 1)\n",
            "X_test shape:  (10000, 784)\n",
            "Y_test shape:  (10000, 1)\n"
          ],
          "name": "stdout"
        }
      ]
    },
    {
      "cell_type": "code",
      "metadata": {
        "id": "LL2OnWgobrS-",
        "colab_type": "code",
        "outputId": "3712ea13-b004-4612-9b7c-57ccbc82307c",
        "colab": {
          "base_uri": "https://localhost:8080/",
          "height": 286
        }
      },
      "source": [
        "## Visualize an image (Try changing the index below)\n",
        "ind = 755\n",
        "img = X_train[ind].reshape(28, 28)\n",
        "plt.imshow(img)\n",
        "print(out_classes[int(Y_train[ind])])"
      ],
      "execution_count": 0,
      "outputs": [
        {
          "output_type": "stream",
          "text": [
            "airplane\n"
          ],
          "name": "stdout"
        },
        {
          "output_type": "display_data",
          "data": {
            "image/png": "[encoded data removed]",
            "text/plain": [
              "<Figure size 432x288 with 1 Axes>"
            ]
          },
          "metadata": {
            "tags": []
          }
        }
      ]
    },
    {
      "cell_type": "code",
      "metadata": {
        "id": "JkYEKJuQcajH",
        "colab_type": "code",
        "colab": {}
      },
      "source": [
        "## Reshape image vectors.\n",
        "image_size = 28\n",
        "X_train = X_train.reshape(X_train.shape[0], image_size, image_size, 1)\n",
        "X_test = X_test.reshape(X_test.shape[0], image_size, image_size, 1)\n",
        "\n",
        "## Create one hot vectors for class labels.\n",
        "Y_train = keras.utils.to_categorical(Y_train, len(out_classes))\n",
        "Y_test = keras.utils.to_categorical(Y_test, len(out_classes))\n",
        "\n",
        "## Normalize the dataset\n",
        "X_train = X_train / 255\n",
        "X_test = X_test / 255"
      ],
      "execution_count": 0,
      "outputs": []
    },
    {
      "cell_type": "code",
      "metadata": {
        "id": "lue1NIFVgjAZ",
        "colab_type": "code",
        "outputId": "961a10ae-7994-46ec-8b21-294aa92980d8",
        "colab": {
          "base_uri": "https://localhost:8080/",
          "height": 85
        }
      },
      "source": [
        "## Sanity check the shape of data-sets.\n",
        "print(\"X_train shape:\", X_train.shape)\n",
        "print(\"Y_train shape:\", Y_train.shape)\n",
        "print(\"X_test shape: \", X_test.shape)\n",
        "print(\"Y_test shape: \", Y_test.shape)"
      ],
      "execution_count": 0,
      "outputs": [
        {
          "output_type": "stream",
          "text": [
            "X_train shape: (710000, 28, 28, 1)\n",
            "Y_train shape: (710000, 60)\n",
            "X_test shape:  (10000, 28, 28, 1)\n",
            "Y_test shape:  (10000, 60)\n"
          ],
          "name": "stdout"
        }
      ]
    },
    {
      "cell_type": "code",
      "metadata": {
        "id": "zgJDnDOZfG25",
        "colab_type": "code",
        "colab": {}
      },
      "source": [
        "def create_model(input_shape):\n",
        "  model = keras.Sequential()\n",
        "  \n",
        "  model.add(layers.Conv2D(16, (3, 3), padding = 'same', input_shape = input_shape, activation = 'relu'))\n",
        "  model.add(layers.BatchNormalization(axis = 3))\n",
        "  model.add(layers.MaxPooling2D(pool_size = (2, 2)))\n",
        "  \n",
        "  model.add(layers.Conv2D(32, (3, 3), padding = 'same', activation = 'relu'))\n",
        "  model.add(layers.BatchNormalization(axis = 3))\n",
        "  model.add(layers.MaxPooling2D(pool_size = (2, 2)))\n",
        "  \n",
        "  model.add(layers.Conv2D(64, (3, 3), padding = 'same', activation = 'relu'))\n",
        "  model.add(layers.BatchNormalization(axis = 3))\n",
        "  model.add(layers.MaxPooling2D(pool_size = (2,2)))\n",
        "  \n",
        "  model.add(layers.Flatten())\n",
        "  model.add(layers.Dense(144, activation = 'relu'))\n",
        "  model.add(layers.Dense(60, activation = 'softmax')) \n",
        "  \n",
        "  return model"
      ],
      "execution_count": 0,
      "outputs": []
    },
    {
      "cell_type": "code",
      "metadata": {
        "id": "W3ez9Op2vTR8",
        "colab_type": "code",
        "outputId": "c1b8cec1-3548-475a-fc45-642ad55a099d",
        "colab": {
          "base_uri": "https://localhost:8080/",
          "height": 561
        }
      },
      "source": [
        "## Create the model\n",
        "doodle_model = create_model((image_size, image_size, 1))\n",
        "print (doodle_model.summary())"
      ],
      "execution_count": 0,
      "outputs": [
        {
          "output_type": "stream",
          "text": [
            "_________________________________________________________________\n",
            "Layer (type)                 Output Shape              Param #   \n",
            "=================================================================\n",
            "conv2d_4 (Conv2D)            (None, 28, 28, 16)        160       \n",
            "_________________________________________________________________\n",
            "batch_normalization_4 (Batch (None, 28, 28, 16)        64        \n",
            "_________________________________________________________________\n",
            "max_pooling2d_4 (MaxPooling2 (None, 14, 14, 16)        0         \n",
            "_________________________________________________________________\n",
            "conv2d_5 (Conv2D)            (None, 14, 14, 32)        4640      \n",
            "_________________________________________________________________\n",
            "batch_normalization_5 (Batch (None, 14, 14, 32)        128       \n",
            "_________________________________________________________________\n",
            "max_pooling2d_5 (MaxPooling2 (None, 7, 7, 32)          0         \n",
            "_________________________________________________________________\n",
            "conv2d_6 (Conv2D)            (None, 7, 7, 64)          18496     \n",
            "_________________________________________________________________\n",
            "batch_normalization_6 (Batch (None, 7, 7, 64)          256       \n",
            "_________________________________________________________________\n",
            "max_pooling2d_6 (MaxPooling2 (None, 3, 3, 64)          0         \n",
            "_________________________________________________________________\n",
            "flatten_2 (Flatten)          (None, 576)               0         \n",
            "_________________________________________________________________\n",
            "dense_3 (Dense)              (None, 144)               83088     \n",
            "_________________________________________________________________\n",
            "dense_4 (Dense)              (None, 60)                8700      \n",
            "=================================================================\n",
            "Total params: 115,532\n",
            "Trainable params: 115,308\n",
            "Non-trainable params: 224\n",
            "_________________________________________________________________\n",
            "None\n"
          ],
          "name": "stdout"
        }
      ]
    },
    {
      "cell_type": "code",
      "metadata": {
        "id": "WScqbTOsvuFw",
        "colab_type": "code",
        "colab": {}
      },
      "source": [
        "## Compile the model\n",
        "doodle_model.compile (optimizer = \"Adam\", loss = \"categorical_crossentropy\", metrics = [\"accuracy\"])"
      ],
      "execution_count": 0,
      "outputs": []
    },
    {
      "cell_type": "code",
      "metadata": {
        "id": "MSi46ssAwKSe",
        "colab_type": "code",
        "outputId": "c6f2b518-7cd1-4ca1-ad5f-4091bc41ba24",
        "colab": {
          "base_uri": "https://localhost:8080/",
          "height": 275
        }
      },
      "source": [
        "## Fit the model\n",
        "doodle_model.fit (x = X_train, y = Y_train, epochs = 5, batch_size = 256)"
      ],
      "execution_count": 0,
      "outputs": [
        {
          "output_type": "stream",
          "text": [
            "W0616 09:53:46.914307 139867370825600 deprecation.py:323] From /usr/local/lib/python3.6/dist-packages/tensorflow/python/ops/math_grad.py:1250: add_dispatch_support.<locals>.wrapper (from tensorflow.python.ops.array_ops) is deprecated and will be removed in a future version.\n",
            "Instructions for updating:\n",
            "Use tf.where in 2.0, which has the same broadcast rule as np.where\n"
          ],
          "name": "stderr"
        },
        {
          "output_type": "stream",
          "text": [
            "Epoch 1/5\n",
            "710000/710000 [==============================] - 43s 61us/step - loss: 0.8575 - acc: 0.7820\n",
            "Epoch 2/5\n",
            "710000/710000 [==============================] - 37s 51us/step - loss: 0.5794 - acc: 0.8501\n",
            "Epoch 3/5\n",
            "710000/710000 [==============================] - 36s 51us/step - loss: 0.5202 - acc: 0.8649\n",
            "Epoch 4/5\n",
            "710000/710000 [==============================] - 36s 50us/step - loss: 0.4868 - acc: 0.8728\n",
            "Epoch 5/5\n",
            "710000/710000 [==============================] - 35s 50us/step - loss: 0.4645 - acc: 0.8783\n"
          ],
          "name": "stdout"
        },
        {
          "output_type": "execute_result",
          "data": {
            "text/plain": [
              "<keras.callbacks.History at 0x7f351018f240>"
            ]
          },
          "metadata": {
            "tags": []
          },
          "execution_count": 23
        }
      ]
    },
    {
      "cell_type": "code",
      "metadata": {
        "id": "EnbvAm9Vwlej",
        "colab_type": "code",
        "outputId": "60e6d3e5-bc3d-4181-d37e-a09e74f060a1",
        "colab": {
          "base_uri": "https://localhost:8080/",
          "height": 68
        }
      },
      "source": [
        "metric_measures = doodle_model.evaluate(x = X_test, y = Y_test)\n",
        "print (\"Loss = \" + str(metric_measures[0]))\n",
        "print (\"Test Accuracy = \" + str(metric_measures[1]))"
      ],
      "execution_count": 0,
      "outputs": [
        {
          "output_type": "stream",
          "text": [
            "10000/10000 [==============================] - 1s 80us/step\n",
            "Loss = 0.5140748666405678\n",
            "Test Accuracy = 0.8684\n"
          ],
          "name": "stdout"
        }
      ]
    },
    {
      "cell_type": "code",
      "metadata": {
        "id": "qaRiFfL_2R3-",
        "colab_type": "code",
        "outputId": "9568fd9a-2a62-4f39-dd79-9239f128a7ab",
        "colab": {
          "base_uri": "https://localhost:8080/",
          "height": 303
        }
      },
      "source": [
        "## Let us make a prediction with our doodle_model.\n",
        "ind = 777\n",
        "img = X_test[ind]\n",
        "plt.imshow(img.reshape(28, 28)) \n",
        "pred_pobs = doodle_model.predict(np.expand_dims(img, axis=0))\n",
        "print (pred_pobs.shape)\n",
        "ind = np.argmax(pred_pobs[0, :])\n",
        "prediction = out_classes[ind]\n",
        "print(prediction)"
      ],
      "execution_count": 0,
      "outputs": [
        {
          "output_type": "stream",
          "text": [
            "(1, 60)\n",
            "baseball_bat\n"
          ],
          "name": "stdout"
        },
        {
          "output_type": "display_data",
          "data": {
            "image/png": "[encoded data removed]",
            "text/plain": [
              "<Figure size 432x288 with 1 Axes>"
            ]
          },
          "metadata": {
            "tags": []
          }
        }
      ]
    },
    {
      "cell_type": "code",
      "metadata": {
        "id": "r21f7DOH_1tE",
        "colab_type": "code",
        "outputId": "2941c12a-acc7-41d1-8ef8-3b01c240c1c6",
        "colab": {
          "base_uri": "https://localhost:8080/",
          "height": 34
        }
      },
      "source": [
        "## Save the model\n",
        "%cd ..\n",
        "doodle_model.save(\"doodle_model.h5\")"
      ],
      "execution_count": 0,
      "outputs": [
        {
          "output_type": "stream",
          "text": [
            "/content/drive/My Drive/Projects/guess_the_doodle\n"
          ],
          "name": "stdout"
        }
      ]
    }
  ]
}